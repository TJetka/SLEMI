{
 "cells": [
  {
   "cell_type": "code",
   "execution_count": 1,
   "id": "9ed2cfb4-1fae-4fd9-adf1-c57171c1ea25",
   "metadata": {},
   "outputs": [
    {
     "name": "stderr",
     "output_type": "stream",
     "text": [
      "Loading required package: usethis\n",
      "\n"
     ]
    }
   ],
   "source": [
    "library(devtools)\n",
    "library(usethis)"
   ]
  },
  {
   "cell_type": "markdown",
   "id": "6b8cd72c-1a57-4c5d-b4a3-8c580ce4de80",
   "metadata": {},
   "source": [
    "## Procedure to submit a packge"
   ]
  },
  {
   "cell_type": "code",
   "execution_count": 13,
   "id": "0a6c877e-f28c-4989-ae6f-f696e64c1a54",
   "metadata": {},
   "outputs": [
    {
     "name": "stderr",
     "output_type": "stream",
     "text": [
      "\u001b[1m\u001b[22m\u001b[36mℹ\u001b[39m Updating \u001b[34mSLEMI\u001b[39m documentation\n",
      "\u001b[1m\u001b[22m\u001b[36mℹ\u001b[39m Loading \u001b[34mSLEMI\u001b[39m\n",
      "\u001b[1m\u001b[22mWriting \u001b[34mSLEMI-package.Rd\u001b[39m\n",
      "\u001b[1m\u001b[22mDeleting \u001b[34mSLEMI.Rd\u001b[39m\n"
     ]
    }
   ],
   "source": [
    "devtools::document()"
   ]
  },
  {
   "cell_type": "code",
   "execution_count": 17,
   "id": "dc700f25-917a-46d1-851e-d1aba5e64c3e",
   "metadata": {},
   "outputs": [
    {
     "name": "stdout",
     "output_type": "stream",
     "text": [
      "\u001b[36m══\u001b[39m \u001b[36mDocumenting\u001b[39m \u001b[36m═════════════════════════════════════════════════════════════════\u001b[39m\n"
     ]
    },
    {
     "name": "stderr",
     "output_type": "stream",
     "text": [
      "\u001b[1m\u001b[22m\u001b[36mℹ\u001b[39m Updating \u001b[34mSLEMI\u001b[39m documentation\n",
      "\u001b[1m\u001b[22m\u001b[36mℹ\u001b[39m Loading \u001b[34mSLEMI\u001b[39m\n"
     ]
    },
    {
     "name": "stdout",
     "output_type": "stream",
     "text": [
      "\n",
      "\u001b[36m══\u001b[39m \u001b[36mBuilding\u001b[39m \u001b[36m════════════════════════════════════════════════════════════════════\u001b[39m\n",
      "\u001b[90mSetting env vars:\u001b[39m\n",
      "• \u001b[90mCFLAGS    : -Wall -pedantic -fdiagnostics-color=always\u001b[39m\n",
      "• \u001b[90mCXXFLAGS  : -Wall -pedantic -fdiagnostics-color=always\u001b[39m\n",
      "• \u001b[90mCXX11FLAGS: -Wall -pedantic -fdiagnostics-color=always\u001b[39m\n",
      "• \u001b[90mCXX14FLAGS: -Wall -pedantic -fdiagnostics-color=always\u001b[39m\n",
      "• \u001b[90mCXX17FLAGS: -Wall -pedantic -fdiagnostics-color=always\u001b[39m\n",
      "• \u001b[90mCXX20FLAGS: -Wall -pedantic -fdiagnostics-color=always\u001b[39m\n",
      "\u001b[36m──\u001b[39m \u001b[36mR CMD build\u001b[39m \u001b[36m─────────────────────────────────────────────────────────────────\u001b[39m\n",
      "* checking for file ‘/opt/work/2023-resolve-cran-issues/DESCRIPTION’ ... OK\n",
      "* preparing ‘SLEMI’:\n",
      "* checking DESCRIPTION meta-information ... OK\n",
      "* installing the package to build vignettes\n",
      "* creating vignettes ... OK\n",
      "* checking for LF line-endings in source and make files and shell scripts\n",
      "* checking for empty or unneeded directories\n",
      "* building ‘SLEMI_1.0.2.tar.gz’\n",
      "Warning: invalid uid value replaced by that for user 'nobody'\n",
      "Warning: invalid gid value replaced by that for user 'nobody'\n",
      "\n",
      "\u001b[36m══\u001b[39m \u001b[36mChecking\u001b[39m \u001b[36m════════════════════════════════════════════════════════════════════\u001b[39m\n",
      "\u001b[90mSetting env vars:\u001b[39m\n",
      "• \u001b[90m_R_CHECK_CRAN_INCOMING_REMOTE_               : FALSE\u001b[39m\n",
      "• \u001b[90m_R_CHECK_CRAN_INCOMING_                      : FALSE\u001b[39m\n",
      "• \u001b[90m_R_CHECK_FORCE_SUGGESTS_                     : FALSE\u001b[39m\n",
      "• \u001b[90m_R_CHECK_PACKAGES_USED_IGNORE_UNUSED_IMPORTS_: FALSE\u001b[39m\n",
      "• \u001b[90mNOT_CRAN                                     : true\u001b[39m\n",
      "\u001b[36m── R CMD check ─────────────────────────────────────────────────────────────────\u001b[39m\n",
      "* using log directory ‘/tmp/RtmpDGlHpI/filea9652ebb78/SLEMI.Rcheck’\n",
      "* using R version 4.3.1 (2023-06-16)\n",
      "* using platform: x86_64-conda-linux-gnu (64-bit)\n",
      "* R was compiled by\n",
      "    x86_64-conda-linux-gnu-cc (conda-forge gcc 10.4.0-19) 10.4.0\n",
      "    GNU Fortran (conda-forge gcc 10.4.0-19) 10.4.0\n",
      "* running under: Ubuntu 22.04.3 LTS\n",
      "* using session charset: UTF-8\n",
      "* using options ‘--no-manual --as-cran’\n",
      "* checking for file ‘SLEMI/DESCRIPTION’ ... OK\n",
      "* this is package ‘SLEMI’ version ‘1.0.2’\n",
      "* package encoding: UTF-8\n",
      "* checking package namespace information ... OK\n",
      "* checking package dependencies ... OK\n",
      "* checking if this is a source package ... OK\n",
      "* checking if there is a namespace ... OK\n",
      "* checking for .dll and .exe files ... OK\n",
      "* checking for hidden files and directories ... NOTE\n",
      "Found the following hidden files and directories:\n",
      "  .git\n",
      "  .ipynb_checkpoints\n",
      "  man/.ipynb_checkpoints\n",
      "  R/.ipynb_checkpoints\n",
      "These were most likely included in error. See section ‘Package\n",
      "structure’ in the ‘Writing R Extensions’ manual.\n",
      "* checking for portable file names ... OK\n",
      "* checking for sufficient/correct file permissions ... OK\n",
      "* checking whether package ‘SLEMI’ can be installed ... OK\n",
      "* checking installed package size ... OK\n",
      "* checking package directory ... OK\n",
      "* checking for future file timestamps ... OK\n",
      "* checking ‘build’ directory ... OK\n",
      "* checking DESCRIPTION meta-information ... OK\n",
      "* checking top-level files ... NOTE\n",
      "Non-standard file/directory found at top level:\n",
      "  ‘cran_update.ipynb’\n",
      "* checking for left-over files ... OK\n",
      "* checking index information ... OK\n",
      "* checking package subdirectories ... OK\n",
      "* checking R files for non-ASCII characters ... OK\n",
      "* checking R files for syntax errors ... OK\n",
      "* checking whether the package can be loaded ... OK\n",
      "* checking whether the package can be loaded with stated dependencies ... OK\n",
      "* checking whether the package can be unloaded cleanly ... OK\n",
      "* checking whether the namespace can be loaded with stated dependencies ... OK\n",
      "* checking whether the namespace can be unloaded cleanly ... OK\n",
      "* checking loading without being on the library search path ... OK\n",
      "* checking dependencies in R code ... OK\n",
      "* checking S3 generic/method consistency ... OK\n",
      "* checking replacement functions ... OK\n",
      "* checking foreign function calls ... OK\n",
      "* checking R code for possible problems ... OK\n",
      "* checking Rd files ... OK\n",
      "* checking Rd metadata ... OK\n",
      "* checking Rd line widths ... OK\n",
      "* checking Rd cross-references ... OK\n",
      "* checking for missing documentation entries ... OK\n",
      "* checking for code/documentation mismatches ... OK\n",
      "* checking Rd \\usage sections ... OK\n",
      "* checking Rd contents ... OK\n",
      "* checking for unstated dependencies in examples ... OK\n",
      "* checking contents of ‘data’ directory ... OK\n",
      "* checking data for non-ASCII characters ... OK\n",
      "* checking LazyData ... OK\n",
      "* checking data for ASCII and uncompressed saves ... OK\n",
      "* checking installed files from ‘inst/doc’ ... OK\n",
      "* checking files in ‘vignettes’ ... OK\n",
      "* checking examples ... OK\n",
      "* checking for unstated dependencies in ‘tests’ ... OK\n",
      "* checking tests ...\n",
      "  Running ‘testthat.R’\n",
      " OK\n",
      "* checking for unstated dependencies in vignettes ... OK\n",
      "* checking package vignettes in ‘inst/doc’ ... OK\n",
      "* checking re-building of vignette outputs ... OK\n",
      "* checking for non-standard things in the check directory ... OK\n",
      "* checking for detritus in the temp directory ... OK\n",
      "* DONE\n",
      "\n",
      "Status: 2 NOTEs\n",
      "See\n",
      "  ‘/tmp/RtmpDGlHpI/filea9652ebb78/SLEMI.Rcheck/00check.log’\n",
      "for details.\n",
      "\n"
     ]
    },
    {
     "data": {
      "text/plain": [
       "\u001b[36m── R CMD check results ──────────────────────────────────────── SLEMI 1.0.2 ────\u001b[39m\n",
       "Duration: 34.8s\n",
       "\n",
       "\u001b[34m❯ checking for hidden files and directories ... NOTE\u001b[39m\n",
       "  Found the following hidden files and directories:\n",
       "    .git\n",
       "    .ipynb_checkpoints\n",
       "    man/.ipynb_checkpoints\n",
       "    R/.ipynb_checkpoints\n",
       "  These were most likely included in error. See section ‘Package\n",
       "  structure’ in the ‘Writing R Extensions’ manual.\n",
       "\n",
       "\u001b[34m❯ checking top-level files ... NOTE\u001b[39m\n",
       "  Non-standard file/directory found at top level:\n",
       "    ‘cran_update.ipynb’\n",
       "\n",
       "\u001b[32m0 errors ✔\u001b[39m | \u001b[32m0 warnings ✔\u001b[39m | \u001b[31m2 notes ✖\u001b[39m"
      ]
     },
     "metadata": {},
     "output_type": "display_data"
    }
   ],
   "source": [
    "devtools::check()"
   ]
  },
  {
   "cell_type": "code",
   "execution_count": 9,
   "id": "0398c4a6-7d25-49e1-ad10-5c05e12cc593",
   "metadata": {},
   "outputs": [
    {
     "name": "stderr",
     "output_type": "stream",
     "text": [
      "\u001b[1m\u001b[22mBuilding windows version of \u001b[34mSLEMI\u001b[39m (1.0.2)\n",
      "\u001b[36mℹ\u001b[39m Using R-release with win-builder.r-project.org.\n"
     ]
    },
    {
     "name": "stdout",
     "output_type": "stream",
     "text": [
      "\u001b[36m──\u001b[39m \u001b[36mR CMD build\u001b[39m \u001b[36m─────────────────────────────────────────────────────────────────\u001b[39m\n",
      "* checking for file ‘/opt/work/2023-resolve-cran-issues/DESCRIPTION’ ... OK\n",
      "* preparing ‘SLEMI’:\n",
      "* checking DESCRIPTION meta-information ... OK\n",
      "* installing the package to build vignettes\n",
      "* creating vignettes ... OK\n",
      "* checking for LF line-endings in source and make files and shell scripts\n",
      "* checking for empty or unneeded directories\n",
      "* building ‘SLEMI_1.0.2.tar.gz’\n",
      "Warning: invalid uid value replaced by that for user 'nobody'\n",
      "Warning: invalid gid value replaced by that for user 'nobody'\n",
      "\n",
      "\u001b[36m────────────────────────────────────────────────────────────────────────────────\u001b[39m\n"
     ]
    },
    {
     "name": "stderr",
     "output_type": "stream",
     "text": [
      "\u001b[1m\u001b[22m\u001b[36mℹ\u001b[39m Check <\u001b[34mt.jetka@gmail.com\u001b[39m> for the results in 15-30 mins (~03:38 PM).\n"
     ]
    }
   ],
   "source": [
    "devtools::check_win_release()"
   ]
  },
  {
   "cell_type": "code",
   "execution_count": 18,
   "id": "4f80a65d-6c7b-410d-a156-2eacded8004b",
   "metadata": {},
   "outputs": [
    {
     "ename": "ERROR",
     "evalue": "Error in rhub::validate_email(\"t.jetka@gmail.com\"): No email or no token and not in interactive mode\n",
     "output_type": "error",
     "traceback": [
      "Error in rhub::validate_email(\"t.jetka@gmail.com\"): No email or no token and not in interactive mode\nTraceback:\n",
      "1. rhub::validate_email(\"t.jetka@gmail.com\")",
      "2. stop(\"No email or no token and not in interactive mode\")"
     ]
    }
   ],
   "source": [
    "library(rhub)\n",
    "rhub::validate_email(\"t.jetka@gmail.com\")"
   ]
  },
  {
   "cell_type": "code",
   "execution_count": 6,
   "id": "aa12fa00-2ad3-4b52-be65-5385738e60eb",
   "metadata": {},
   "outputs": [
    {
     "name": "stdout",
     "output_type": "stream",
     "text": [
      "\u001b[36m──\u001b[39m \u001b[36mR CMD build\u001b[39m \u001b[36m─────────────────────────────────────────────────────────────────\u001b[39m\n",
      "* checking for file ‘/opt/work/2023-resolve-cran-issues/DESCRIPTION’ ... OK\n",
      "* preparing ‘SLEMI’:\n",
      "* checking DESCRIPTION meta-information ... OK\n",
      "* installing the package to build vignettes\n",
      "* creating vignettes ... OK\n",
      "* checking for LF line-endings in source and make files and shell scripts\n",
      "* checking for empty or unneeded directories\n",
      "* building ‘SLEMI_1.0.2.tar.gz’\n",
      "Warning: invalid uid value replaced by that for user 'nobody'\n",
      "Warning: invalid gid value replaced by that for user 'nobody'\n",
      "\n"
     ]
    },
    {
     "ename": "ERROR",
     "evalue": "Error in assert_validated_email_for_check(email): ‘t.jetka@gmail.com’ is not validated\n",
     "output_type": "error",
     "traceback": [
      "Error in assert_validated_email_for_check(email): ‘t.jetka@gmail.com’ is not validated\nTraceback:\n",
      "1. devtools::check_rhub()",
      "2. rhub::check_for_cran(path = built_path, email = email, platforms = platforms, \n .     show_status = interactive, ...)",
      "3. check(path = path, platforms = platforms, email = email, check_args = check_args, \n .     env_vars = env_vars, ...)",
      "4. assert_validated_email_for_check(email)",
      "5. stop(sQuote(email), \" is not validated\")"
     ]
    }
   ],
   "source": [
    "devtools::check_rhub()"
   ]
  },
  {
   "cell_type": "markdown",
   "id": "45447303-cf37-42a6-b0f6-6f52d1f45075",
   "metadata": {},
   "source": [
    "## 2023 update"
   ]
  },
  {
   "cell_type": "code",
   "execution_count": 4,
   "id": "e92f783e-de8f-4e21-9d72-c7723841a082",
   "metadata": {},
   "outputs": [
    {
     "name": "stderr",
     "output_type": "stream",
     "text": [
      "\u001b[32m✔\u001b[39m Setting active project to \u001b[34m'/opt/work/2023-resolve-cran-issues'\u001b[39m\n",
      "\u001b[32m✔\u001b[39m Writing \u001b[34m'R/SLEMI-package.R'\u001b[39m\n"
     ]
    }
   ],
   "source": [
    "## add package-level help page\n",
    "usethis::use_package_doc()"
   ]
  },
  {
   "cell_type": "code",
   "execution_count": 10,
   "id": "854e7160-f46d-4e26-a6ea-14dd8b6030c1",
   "metadata": {},
   "outputs": [
    {
     "data": {
      "text/plain": [
       "NULL"
      ]
     },
     "metadata": {},
     "output_type": "display_data"
    }
   ],
   "source": [
    "load(\"../data/ggthemes_data.rda\")\n",
    "ggthemes_data$hc$bg\n",
    "# Action: to be removed"
   ]
  }
 ],
 "metadata": {
  "kernelspec": {
   "display_name": "R",
   "language": "R",
   "name": "ir"
  },
  "language_info": {
   "codemirror_mode": "r",
   "file_extension": ".r",
   "mimetype": "text/x-r-source",
   "name": "R",
   "pygments_lexer": "r",
   "version": "4.3.1"
  }
 },
 "nbformat": 4,
 "nbformat_minor": 5
}
