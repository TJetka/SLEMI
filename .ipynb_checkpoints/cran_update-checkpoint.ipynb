{
 "cells": [
  {
   "cell_type": "code",
   "execution_count": 1,
   "id": "9ed2cfb4-1fae-4fd9-adf1-c57171c1ea25",
   "metadata": {},
   "outputs": [
    {
     "name": "stderr",
     "output_type": "stream",
     "text": [
      "Loading required package: usethis\n",
      "\n"
     ]
    }
   ],
   "source": [
    "library(devtools)\n",
    "library(usethis)"
   ]
  },
  {
   "cell_type": "markdown",
   "id": "6b8cd72c-1a57-4c5d-b4a3-8c580ce4de80",
   "metadata": {},
   "source": [
    "## Procedure to submit a packge"
   ]
  },
  {
   "cell_type": "code",
   "execution_count": 2,
   "id": "0a6c877e-f28c-4989-ae6f-f696e64c1a54",
   "metadata": {},
   "outputs": [
    {
     "name": "stderr",
     "output_type": "stream",
     "text": [
      "\u001b[1m\u001b[22m\u001b[36mℹ\u001b[39m Updating \u001b[34mSLEMI\u001b[39m documentation\n",
      "\u001b[1m\u001b[22m\u001b[36mℹ\u001b[39m Loading \u001b[34mSLEMI\u001b[39m\n",
      "\u001b[1m\u001b[22mWriting \u001b[34mcapacity_logreg_testing.Rd\u001b[39m\n",
      "\u001b[1m\u001b[22mWriting \u001b[34mmi_logreg_testing.Rd\u001b[39m\n",
      "\u001b[1m\u001b[22mWriting \u001b[34moutput_graphs_main.Rd\u001b[39m\n"
     ]
    }
   ],
   "source": [
    "devtools::document()"
   ]
  },
  {
   "cell_type": "code",
   "execution_count": 4,
   "id": "dc700f25-917a-46d1-851e-d1aba5e64c3e",
   "metadata": {
    "scrolled": true
   },
   "outputs": [
    {
     "name": "stdout",
     "output_type": "stream",
     "text": [
      "\u001b[36m══\u001b[39m \u001b[36mDocumenting\u001b[39m \u001b[36m═════════════════════════════════════════════════════════════════\u001b[39m\n"
     ]
    },
    {
     "name": "stderr",
     "output_type": "stream",
     "text": [
      "\u001b[1m\u001b[22m\u001b[36mℹ\u001b[39m Updating \u001b[34mSLEMI\u001b[39m documentation\n",
      "\u001b[1m\u001b[22m\u001b[36mℹ\u001b[39m Loading \u001b[34mSLEMI\u001b[39m\n"
     ]
    },
    {
     "name": "stdout",
     "output_type": "stream",
     "text": [
      "\n",
      "\u001b[36m══\u001b[39m \u001b[36mBuilding\u001b[39m \u001b[36m════════════════════════════════════════════════════════════════════\u001b[39m\n",
      "\u001b[90mSetting env vars:\u001b[39m\n",
      "• \u001b[90mCFLAGS    : -Wall -pedantic -fdiagnostics-color=always\u001b[39m\n",
      "• \u001b[90mCXXFLAGS  : -Wall -pedantic -fdiagnostics-color=always\u001b[39m\n",
      "• \u001b[90mCXX11FLAGS: -Wall -pedantic -fdiagnostics-color=always\u001b[39m\n",
      "• \u001b[90mCXX14FLAGS: -Wall -pedantic -fdiagnostics-color=always\u001b[39m\n",
      "• \u001b[90mCXX17FLAGS: -Wall -pedantic -fdiagnostics-color=always\u001b[39m\n",
      "• \u001b[90mCXX20FLAGS: -Wall -pedantic -fdiagnostics-color=always\u001b[39m\n",
      "\u001b[36m──\u001b[39m \u001b[36mR CMD build\u001b[39m \u001b[36m─────────────────────────────────────────────────────────────────\u001b[39m\n",
      "* checking for file ‘/opt/work/2023_resolve_docs/DESCRIPTION’ ... OK\n",
      "* preparing ‘SLEMI’:\n",
      "* checking DESCRIPTION meta-information ... OK\n",
      "* installing the package to build vignettes\n",
      "* creating vignettes ... OK\n",
      "* checking for LF line-endings in source and make files and shell scripts\n",
      "* checking for empty or unneeded directories\n",
      "* building ‘SLEMI_1.0.2.tar.gz’\n",
      "Warning: invalid uid value replaced by that for user 'nobody'\n",
      "Warning: invalid gid value replaced by that for user 'nobody'\n",
      "\n",
      "\u001b[36m══\u001b[39m \u001b[36mChecking\u001b[39m \u001b[36m════════════════════════════════════════════════════════════════════\u001b[39m\n",
      "\u001b[90mSetting env vars:\u001b[39m\n",
      "• \u001b[90m_R_CHECK_CRAN_INCOMING_REMOTE_               : FALSE\u001b[39m\n",
      "• \u001b[90m_R_CHECK_CRAN_INCOMING_                      : FALSE\u001b[39m\n",
      "• \u001b[90m_R_CHECK_FORCE_SUGGESTS_                     : FALSE\u001b[39m\n",
      "• \u001b[90m_R_CHECK_PACKAGES_USED_IGNORE_UNUSED_IMPORTS_: FALSE\u001b[39m\n",
      "• \u001b[90mNOT_CRAN                                     : true\u001b[39m\n",
      "\u001b[36m── R CMD check ─────────────────────────────────────────────────────────────────\u001b[39m\n",
      "* using log directory ‘/tmp/Rtmpo7g5Wg/file5e39296790a0/SLEMI.Rcheck’\n",
      "* using R version 4.3.1 (2023-06-16)\n",
      "* using platform: x86_64-conda-linux-gnu (64-bit)\n",
      "* R was compiled by\n",
      "    x86_64-conda-linux-gnu-cc (conda-forge gcc 10.4.0-19) 10.4.0\n",
      "    GNU Fortran (conda-forge gcc 10.4.0-19) 10.4.0\n",
      "* running under: Ubuntu 22.04.3 LTS\n",
      "* using session charset: UTF-8\n",
      "* using options ‘--no-manual --as-cran’\n",
      "* checking for file ‘SLEMI/DESCRIPTION’ ... OK\n",
      "* this is package ‘SLEMI’ version ‘1.0.2’\n",
      "* package encoding: UTF-8\n",
      "* checking package namespace information ... OK\n",
      "* checking package dependencies ... OK\n",
      "* checking if this is a source package ... OK\n",
      "* checking if there is a namespace ... OK\n",
      "* checking for .dll and .exe files ... OK\n",
      "* checking for hidden files and directories ... NOTE\n",
      "Found the following hidden files and directories:\n",
      "  .git\n",
      "  .ipynb_checkpoints\n",
      "  envs/.ipynb_checkpoints\n",
      "  man/.ipynb_checkpoints\n",
      "  R/.ipynb_checkpoints\n",
      "These were most likely included in error. See section ‘Package\n",
      "structure’ in the ‘Writing R Extensions’ manual.\n",
      "* checking for portable file names ... OK\n",
      "* checking for sufficient/correct file permissions ... OK\n",
      "* checking whether package ‘SLEMI’ can be installed ... OK\n",
      "* checking installed package size ... OK\n",
      "* checking package directory ... OK\n",
      "* checking for future file timestamps ... OK\n",
      "* checking ‘build’ directory ... OK\n",
      "* checking DESCRIPTION meta-information ... OK\n",
      "* checking top-level files ... NOTE\n",
      "Non-standard files/directories found at top level:\n",
      "  ‘cran_update.ipynb’ ‘envs’ ‘Taskfile.yml’\n",
      "* checking for left-over files ... OK\n",
      "* checking index information ... OK\n",
      "* checking package subdirectories ... OK\n",
      "* checking R files for non-ASCII characters ... OK\n",
      "* checking R files for syntax errors ... OK\n",
      "* checking whether the package can be loaded ... OK\n",
      "* checking whether the package can be loaded with stated dependencies ... OK\n",
      "* checking whether the package can be unloaded cleanly ... OK\n",
      "* checking whether the namespace can be loaded with stated dependencies ... OK\n",
      "* checking whether the namespace can be unloaded cleanly ... OK\n",
      "* checking loading without being on the library search path ... OK\n",
      "* checking dependencies in R code ... OK\n",
      "* checking S3 generic/method consistency ... OK\n",
      "* checking replacement functions ... OK\n",
      "* checking foreign function calls ... OK\n",
      "* checking R code for possible problems ... OK\n",
      "* checking Rd files ... OK\n",
      "* checking Rd metadata ... OK\n",
      "* checking Rd line widths ... OK\n",
      "* checking Rd cross-references ... OK\n",
      "* checking for missing documentation entries ... OK\n",
      "* checking for code/documentation mismatches ... OK\n",
      "* checking Rd \\usage sections ... OK\n",
      "* checking Rd contents ... OK\n",
      "* checking for unstated dependencies in examples ... OK\n",
      "* checking contents of ‘data’ directory ... OK\n",
      "* checking data for non-ASCII characters ... OK\n",
      "* checking LazyData ... OK\n",
      "* checking data for ASCII and uncompressed saves ... OK\n",
      "* checking installed files from ‘inst/doc’ ... OK\n",
      "* checking files in ‘vignettes’ ... OK\n",
      "* checking examples ... OK\n",
      "* checking for unstated dependencies in ‘tests’ ... OK\n",
      "* checking tests ...\n",
      "  Running ‘testthat.R’\n",
      " OK\n",
      "* checking for unstated dependencies in vignettes ... OK\n",
      "* checking package vignettes in ‘inst/doc’ ... OK\n",
      "* checking re-building of vignette outputs ... OK\n",
      "* checking for non-standard things in the check directory ... OK\n",
      "* checking for detritus in the temp directory ... OK\n",
      "* DONE\n",
      "\n",
      "Status: 2 NOTEs\n",
      "See\n",
      "  ‘/tmp/Rtmpo7g5Wg/file5e39296790a0/SLEMI.Rcheck/00check.log’\n",
      "for details.\n"
     ]
    },
    {
     "data": {
      "text/plain": [
       "\u001b[36m── R CMD check results ──────────────────────────────────────── SLEMI 1.0.2 ────\u001b[39m\n",
       "Duration: 34.4s\n",
       "\n",
       "\u001b[34m❯ checking for hidden files and directories ... NOTE\u001b[39m\n",
       "  Found the following hidden files and directories:\n",
       "    .git\n",
       "    .ipynb_checkpoints\n",
       "    envs/.ipynb_checkpoints\n",
       "    man/.ipynb_checkpoints\n",
       "    R/.ipynb_checkpoints\n",
       "  These were most likely included in error. See section ‘Package\n",
       "  structure’ in the ‘Writing R Extensions’ manual.\n",
       "\n",
       "\u001b[34m❯ checking top-level files ... NOTE\u001b[39m\n",
       "  Non-standard files/directories found at top level:\n",
       "    ‘cran_update.ipynb’ ‘envs’ ‘Taskfile.yml’\n",
       "\n",
       "\u001b[32m0 errors ✔\u001b[39m | \u001b[32m0 warnings ✔\u001b[39m | \u001b[31m2 notes ✖\u001b[39m"
      ]
     },
     "metadata": {},
     "output_type": "display_data"
    }
   ],
   "source": [
    "devtools::check()"
   ]
  },
  {
   "cell_type": "code",
   "execution_count": 7,
   "id": "7cf31f7b-ba40-4923-b150-ddf3a825e28b",
   "metadata": {},
   "outputs": [
    {
     "name": "stderr",
     "output_type": "stream",
     "text": [
      "\u001b[1m\u001b[22m\u001b[36mℹ\u001b[39m Testing \u001b[34mSLEMI\u001b[39m\n",
      "\n",
      "Attaching package: ‘testthat’\n",
      "\n",
      "\n",
      "The following object is masked from ‘package:devtools’:\n",
      "\n",
      "    test_file\n",
      "\n",
      "\n"
     ]
    },
    {
     "name": "stdout",
     "output_type": "stream",
     "text": [
      "\u001b[32m✔\u001b[39m | \u001b[33mF\u001b[39m \u001b[35mW\u001b[39m \u001b[34m S\u001b[39m \u001b[32m OK\u001b[39m | Context\n",
      "\n",
      "⠏ |          0 | aux_functions                                                  \n",
      "\u001b[32m✔\u001b[39m |          9 | aux_functions\n",
      "\n",
      "⠏ |          0 | capacity_logreg_main                                           \n",
      "⠋ |          1 | capacity_logreg_main                                           \n",
      "\u001b[32m✔\u001b[39m |          3 | capacity_logreg_main\n",
      "\n",
      "⠏ |          0 | capacity_logreg_testing                                        \n",
      "⠋ |          1 | capacity_logreg_testing                                        \n",
      "\u001b[32m✔\u001b[39m |          5 | capacity_logreg_testing\u001b[90m [4.3s]\u001b[39m\n",
      "\n",
      "⠏ |          0 | func_formula_generator                                         \n",
      "\u001b[32m✔\u001b[39m |          6 | func_formula_generator\n",
      "\n",
      "⠏ |          0 | func_input_checks                                              \n",
      "\u001b[32m✔\u001b[39m |          6 | func_input_checks\n",
      "\n",
      "⠏ |          0 | func_iterative_logreg_update                                   \n",
      "\u001b[32m✔\u001b[39m |         10 | func_iterative_logreg_update\n",
      "\n",
      "⠏ |          0 | func_sampling_functions                                        \n",
      "\u001b[32m✔\u001b[39m |          4 | func_sampling_functions\n",
      "\n",
      "══ \u001b[1mResults\u001b[22m ═════════════════════════════════════════════════════════════════════\n",
      "\u001b[36mDuration: 4.9 s\u001b[39m\n",
      "\n",
      "[ FAIL 0 | WARN 0 | SKIP 0 | \u001b[32mPASS\u001b[39m 43 ]\n"
     ]
    },
    {
     "name": "stderr",
     "output_type": "stream",
     "text": [
      "\u001b[1m\u001b[22m\u001b[36mℹ\u001b[39m Updating \u001b[34mSLEMI\u001b[39m documentation\n",
      "\u001b[1m\u001b[22m\u001b[36mℹ\u001b[39m Loading \u001b[34mSLEMI\u001b[39m\n"
     ]
    },
    {
     "name": "stdout",
     "output_type": "stream",
     "text": [
      "── Running 21 example files ─────────────────────────────────────────── SLEMI ──\n"
     ]
    },
    {
     "name": "stderr",
     "output_type": "stream",
     "text": [
      "\u001b[1m\u001b[22m\u001b[36mℹ\u001b[39m Loading \u001b[34mSLEMI\u001b[39m\n"
     ]
    },
    {
     "name": "stdout",
     "output_type": "stream",
     "text": [
      "\n",
      "> df = data.frame(x = c(rnorm(10), NA, NA), y = c(NA, \n",
      "+     NA, rnorm(10)))\n",
      "\n",
      "> SLEMI:::aux_deleteNA_df(df)\n",
      "            x          y\n",
      "3  -0.3296494 -0.1864185\n",
      "4   2.2938208  0.1945115\n",
      "5  -1.0635389  1.0476194\n",
      "6   0.3657924 -0.4260739\n",
      "7   0.3242409 -1.1667258\n",
      "8  -1.0737350 -0.8535683\n",
      "9  -1.3556321 -1.9708089\n",
      "10  0.6037303 -0.5880237\n",
      "\n",
      "> library(ggplot2)\n",
      "\n",
      "> ggplot(data = data.frame(x = 1:10, y = rnorm(10)), \n",
      "+     aes(x = x, y = y)) + geom_point() + SLEMI:::aux_theme_publ(version = 2)\n",
      "\n",
      "> SLEMI:::aux_x_log_y(1, 2)\n",
      "[1] 0.6931472\n",
      "\n",
      "> SLEMI:::aux_x_log_y(0, 0)\n",
      "[1] 0\n",
      "\n",
      "> SLEMI:::aux_x_log_y(1000, 100)\n",
      "[1] 4605.17\n",
      "\n",
      "> tempdata = data_example1\n",
      "\n",
      "> outputCLR1 = capacity_logreg_algorithm(data = tempdata, \n",
      "+     signal = \"signal\", response = \"response\", cc_maxit = 3, model_out = FALSE, \n",
      "+     formula_string = \"signal~response\")\n",
      "\n",
      "> tempdata = data_example1\n",
      "\n",
      "> outputCLR1 = capacity_logreg_main(dataRaw = tempdata, \n",
      "+     signal = \"signal\", response = \"response\", cc_maxit = 10, \n",
      "+     formula_string = \"signal~response\")\n"
     ]
    },
    {
     "name": "stderr",
     "output_type": "stream",
     "text": [
      " Estimating channel capacity ...\n",
      "\n",
      "Output path is not defined. Graphs and RDS file will not be saved.\n",
      "\n",
      " Estimation finished.\n",
      "\n"
     ]
    },
    {
     "name": "stdout",
     "output_type": "stream",
     "text": [
      "\n",
      "> tempdata = data_example2\n",
      "\n",
      "> outputCLR2 = capacity_logreg_main(dataRaw = tempdata, \n",
      "+     signal = \"signal\", response = c(\"X1\", \"X2\"), cc_maxit = 10, \n",
      "+     formula_string = \"signal~X1+X2\")\n"
     ]
    },
    {
     "name": "stderr",
     "output_type": "stream",
     "text": [
      " Estimating channel capacity ...\n",
      "\n",
      "Output path is not defined. Graphs and RDS file will not be saved.\n",
      "\n",
      " Estimation finished.\n",
      "\n"
     ]
    },
    {
     "name": "stdout",
     "output_type": "stream",
     "text": [
      "\n",
      "> tempdata = data_example1\n",
      "\n",
      "> outputCLR1_testing = capacity_logreg_testing(data = tempdata, \n",
      "+     signal = \"signal\", response = \"response\", cc_maxit = 10, \n",
      "+     TestingSeed = 11111, boot_num = 1, boot_prob = 0.8, testing_cores = 1, \n",
      "+     traintest_num = 1, partition_trainfrac = 0.6)\n"
     ]
    },
    {
     "name": "stderr",
     "output_type": "stream",
     "text": [
      "Testing procedures starting with 1 core(s)..\n",
      "\n"
     ]
    },
    {
     "name": "stdout",
     "output_type": "stream",
     "text": [
      "\n",
      "> SLEMI:::func_formula_generator(signal = \"signal\", \n",
      "+     response = \"response\", side_variables = NULL)\n",
      "[1] \"signal ~ response\"\n",
      "\n",
      "> SLEMI:::func_formula_generator(signal = \"inputX\", \n",
      "+     response = \"responseY\", side_variables = \"SV1\")\n",
      "[1] \"inputX ~ responseY+SV1:responseY\"\n",
      "\n",
      "> SLEMI:::func_formula_generator(signal = \"signalX\", \n",
      "+     response = c(\"r_1\", \"r_2\", \"r_5\"), side_variables = \"SV\")\n",
      "[1] \"signalX ~ r_1+r_2+r_5+SV:r_1+SV:r_2+SV:r_5\"\n",
      "\n",
      "> data = data_example1\n",
      "\n",
      "> SLEMI:::func_input_checks(data = data, signal = \"signal\", \n",
      "+     response = \"response\", side_variables = \"sideVar\")\n",
      "\n",
      "> data = data_example1\n",
      "\n",
      "> data1 = SLEMI:::func_signal_transform(data, \"signal\")\n",
      "\n",
      "> data$signal = as.character(data$signal)\n",
      "\n",
      "> data2 = SLEMI:::func_signal_transform(data, \"signal\")\n",
      "\n",
      "> data$signal = as.numeric(data$signal)\n",
      "\n",
      "> data3 = SLEMI:::func_signal_transform(data, \"signal\")\n",
      "\n",
      "> temp_data = data_example1\n",
      "\n",
      "> output = mi_logreg_algorithm(data = data_example1, \n",
      "+     signal = \"signal\", response = \"response\")\n",
      "\n",
      "> tempdata = data_example1\n",
      "\n",
      "> outputCLR1 = mi_logreg_main(dataRaw = tempdata, signal = \"signal\", \n",
      "+     response = \"response\")\n"
     ]
    },
    {
     "name": "stderr",
     "output_type": "stream",
     "text": [
      "Estimating mutual information ...\n",
      "\n",
      "Output Path is not defined. Graphs and RDS file will not be saved.\n",
      "\n",
      "Estimation finished.\n",
      "\n"
     ]
    },
    {
     "name": "stdout",
     "output_type": "stream",
     "text": [
      "\n",
      "> tempdata = data_example2\n",
      "\n",
      "> outputCLR2 = mi_logreg_main(dataRaw = tempdata, signal = \"signal\", \n",
      "+     response = c(\"X1\", \"X2\", \"X3\"))\n"
     ]
    },
    {
     "name": "stderr",
     "output_type": "stream",
     "text": [
      "Estimating mutual information ...\n",
      "\n",
      "Output Path is not defined. Graphs and RDS file will not be saved.\n",
      "\n",
      "Estimation finished.\n",
      "\n"
     ]
    },
    {
     "name": "stdout",
     "output_type": "stream",
     "text": [
      "\n",
      "> tempdata = data_example1\n",
      "\n",
      "> output = mi_logreg_testing(data = tempdata, signal = \"signal\", \n",
      "+     response = \"response\", testing_cores = 1, boot_num = 1, traintest_num = 1)\n"
     ]
    },
    {
     "name": "stderr",
     "output_type": "stream",
     "text": [
      "Testing procedures starting with 1 core(s)..\n",
      "\n"
     ]
    },
    {
     "name": "stdout",
     "output_type": "stream",
     "text": [
      "\n",
      "> it = 21\n",
      "\n",
      "> output = prob_discr_pairwise(dataRaw = data_nfkb[data_nfkb$signal %in% \n",
      "+     c(\"0ng\", \"1ng\", \"100ng\"), ], signal = \"signal\", response = paste0(\"response_\", \n",
      "+     it))\n"
     ]
    },
    {
     "name": "stderr",
     "output_type": "stream",
     "text": [
      "Estimating pairwise probabilities of discrimination...\n",
      "\n",
      "Path is not defined. Graphs and RDS file will not be saved.\n",
      "\n",
      " There are NA in observations - removing..\n",
      "\n",
      "Warning message in func_signal_transform(data0, signal):\n",
      "“NAs introduced by coercion”\n",
      "Warning message due to check for numeric values in signal. Resulting object discarded.\n",
      "\n",
      "Fitting logistic regression models for 3 pairs\n",
      "\n"
     ]
    },
    {
     "name": "stdout",
     "output_type": "stream",
     "text": [
      "\n",
      "> data = data_example1\n",
      "\n",
      "> dataBootstrap = SLEMI:::sampling_bootstrap(data = data, \n",
      "+     prob = 0.8, data$signal)\n",
      "\n",
      "> dataShuffle = SLEMI:::sampling_shuffle(data = data, \n",
      "+     \"sideVar\")\n",
      "\n",
      "> dataTrainTest = SLEMI:::sampling_partition(data = data, \n",
      "+     dataDiv = data$signal, partition_trainfrac = 0.6)\n"
     ]
    },
    {
     "name": "stderr",
     "output_type": "stream",
     "text": [
      "\u001b[1m\u001b[22m\u001b[36mℹ\u001b[39m Loading \u001b[34mSLEMI\u001b[39m\n"
     ]
    },
    {
     "data": {
      "application/pdf": "[encoded data removed]",
      "image/jpeg": "[encoded data removed]",
      "image/png": "[encoded data removed]",
      "image/svg+xml": [
       "<?xml version=\"1.0\" encoding=\"UTF-8\"?>\n",
       "<svg xmlns=\"http://www.w3.org/2000/svg\" xmlns:xlink=\"http://www.w3.org/1999/xlink\" width=\"504\" height=\"504\" viewBox=\"0 0 504 504\">\n",
       "<defs>\n",
       "<g>\n",
       "<g id=\"glyph-0-0\">\n",
       "<path d=\"M 0.625 -3.203125 L 0.625 -5.109375 L 4.6875 -5.109375 L 4.6875 -3.203125 Z M 0.625 -3.203125 \"/>\n",
       "</g>\n",
       "<g id=\"glyph-0-1\">\n",
       "<path d=\"M 8.25 -5.515625 C 8.25 -4.460938 8.148438 -3.570312 7.953125 -2.84375 C 7.765625 -2.125 7.5 -1.539062 7.15625 -1.09375 C 6.8125 -0.65625 6.40625 -0.335938 5.9375 -0.140625 C 5.476562 0.0546875 4.972656 0.15625 4.421875 0.15625 C 3.867188 0.15625 3.359375 0.0625 2.890625 -0.125 C 2.429688 -0.320312 2.035156 -0.644531 1.703125 -1.09375 C 1.367188 -1.539062 1.109375 -2.125 0.921875 -2.84375 C 0.734375 -3.5625 0.640625 -4.453125 0.640625 -5.515625 C 0.640625 -6.617188 0.726562 -7.535156 0.90625 -8.265625 C 1.09375 -8.992188 1.351562 -9.570312 1.6875 -10 C 2.03125 -10.4375 2.4375 -10.738281 2.90625 -10.90625 C 3.382812 -11.082031 3.910156 -11.171875 4.484375 -11.171875 C 5.015625 -11.171875 5.507812 -11.082031 5.96875 -10.90625 C 6.4375 -10.738281 6.835938 -10.4375 7.171875 -10 C 7.503906 -9.570312 7.765625 -8.992188 7.953125 -8.265625 C 8.148438 -7.535156 8.25 -6.617188 8.25 -5.515625 Z M 6.046875 -5.515625 C 6.046875 -6.285156 6.015625 -6.925781 5.953125 -7.4375 C 5.898438 -7.945312 5.8125 -8.347656 5.6875 -8.640625 C 5.5625 -8.941406 5.394531 -9.148438 5.1875 -9.265625 C 4.988281 -9.390625 4.75 -9.453125 4.46875 -9.453125 C 4.15625 -9.453125 3.894531 -9.390625 3.6875 -9.265625 C 3.476562 -9.148438 3.3125 -8.941406 3.1875 -8.640625 C 3.0625 -8.335938 2.96875 -7.929688 2.90625 -7.421875 C 2.851562 -6.910156 2.828125 -6.273438 2.828125 -5.515625 C 2.828125 -4.753906 2.851562 -4.117188 2.90625 -3.609375 C 2.96875 -3.109375 3.0625 -2.707031 3.1875 -2.40625 C 3.3125 -2.101562 3.472656 -1.890625 3.671875 -1.765625 C 3.878906 -1.640625 4.132812 -1.578125 4.4375 -1.578125 C 4.71875 -1.578125 4.957031 -1.640625 5.15625 -1.765625 C 5.363281 -1.890625 5.53125 -2.101562 5.65625 -2.40625 C 5.789062 -2.707031 5.890625 -3.109375 5.953125 -3.609375 C 6.015625 -4.117188 6.046875 -4.753906 6.046875 -5.515625 Z M 6.046875 -5.515625 \"/>\n",
       "</g>\n",
       "<g id=\"glyph-0-2\">\n",
       "<path d=\"M 1.09375 0 L 1.09375 -2.390625 L 3.34375 -2.390625 L 3.34375 0 Z M 1.09375 0 \"/>\n",
       "</g>\n",
       "<g id=\"glyph-0-3\">\n",
       "<path d=\"M 8.453125 -3.671875 C 8.453125 -3.117188 8.363281 -2.609375 8.1875 -2.140625 C 8.019531 -1.671875 7.765625 -1.265625 7.421875 -0.921875 C 7.078125 -0.585938 6.648438 -0.320312 6.140625 -0.125 C 5.628906 0.0625 5.039062 0.15625 4.375 0.15625 C 3.757812 0.15625 3.222656 0.0820312 2.765625 -0.0625 C 2.304688 -0.21875 1.921875 -0.425781 1.609375 -0.6875 C 1.296875 -0.945312 1.046875 -1.253906 0.859375 -1.609375 C 0.679688 -1.960938 0.5625 -2.34375 0.5 -2.75 L 2.6875 -2.9375 C 2.726562 -2.757812 2.785156 -2.585938 2.859375 -2.421875 C 2.941406 -2.265625 3.050781 -2.125 3.1875 -2 C 3.320312 -1.875 3.488281 -1.773438 3.6875 -1.703125 C 3.882812 -1.628906 4.125 -1.59375 4.40625 -1.59375 C 4.945312 -1.59375 5.378906 -1.765625 5.703125 -2.109375 C 6.035156 -2.460938 6.203125 -2.96875 6.203125 -3.625 C 6.203125 -3.914062 6.160156 -4.175781 6.078125 -4.40625 C 5.992188 -4.644531 5.878906 -4.847656 5.734375 -5.015625 C 5.585938 -5.179688 5.40625 -5.304688 5.1875 -5.390625 C 4.96875 -5.484375 4.722656 -5.53125 4.453125 -5.53125 C 4.085938 -5.53125 3.785156 -5.457031 3.546875 -5.3125 C 3.316406 -5.175781 3.117188 -5.007812 2.953125 -4.8125 L 0.8125 -4.8125 L 1.203125 -11.015625 L 7.8125 -11.015625 L 7.8125 -9.375 L 3.1875 -9.375 L 3.015625 -6.59375 C 3.234375 -6.789062 3.507812 -6.957031 3.84375 -7.09375 C 4.175781 -7.226562 4.5625 -7.296875 5 -7.296875 C 5.539062 -7.296875 6.023438 -7.207031 6.453125 -7.03125 C 6.878906 -6.851562 7.238281 -6.601562 7.53125 -6.28125 C 7.832031 -5.96875 8.0625 -5.585938 8.21875 -5.140625 C 8.375 -4.703125 8.453125 -4.210938 8.453125 -3.671875 Z M 8.453125 -3.671875 \"/>\n",
       "</g>\n",
       "<g id=\"glyph-0-4\">\n",
       "<path d=\"M 1.015625 0 L 1.015625 -1.640625 L 3.734375 -1.640625 L 3.734375 -9.140625 L 1.09375 -7.5 L 1.09375 -9.21875 L 3.859375 -11.015625 L 5.9375 -11.015625 L 5.9375 -1.640625 L 8.453125 -1.640625 L 8.453125 0 Z M 1.015625 0 \"/>\n",
       "</g>\n",
       "<g id=\"glyph-0-5\">\n",
       "<path d=\"M 0.5625 0 L 0.5625 -1.53125 C 0.8125 -2.070312 1.113281 -2.5625 1.46875 -3 C 1.832031 -3.445312 2.207031 -3.851562 2.59375 -4.21875 C 2.988281 -4.582031 3.378906 -4.921875 3.765625 -5.234375 C 4.160156 -5.554688 4.507812 -5.863281 4.8125 -6.15625 C 5.125 -6.445312 5.375 -6.738281 5.5625 -7.03125 C 5.757812 -7.332031 5.859375 -7.648438 5.859375 -7.984375 C 5.859375 -8.472656 5.734375 -8.832031 5.484375 -9.0625 C 5.242188 -9.300781 4.890625 -9.421875 4.421875 -9.421875 C 3.953125 -9.421875 3.59375 -9.296875 3.34375 -9.046875 C 3.09375 -8.796875 2.929688 -8.414062 2.859375 -7.90625 L 0.65625 -8.03125 C 0.707031 -8.46875 0.8125 -8.875 0.96875 -9.25 C 1.132812 -9.632812 1.363281 -9.96875 1.65625 -10.25 C 1.957031 -10.539062 2.332031 -10.765625 2.78125 -10.921875 C 3.238281 -11.085938 3.78125 -11.171875 4.40625 -11.171875 C 5 -11.171875 5.523438 -11.101562 5.984375 -10.96875 C 6.441406 -10.832031 6.828125 -10.628906 7.140625 -10.359375 C 7.453125 -10.097656 7.6875 -9.773438 7.84375 -9.390625 C 8.007812 -9.003906 8.09375 -8.566406 8.09375 -8.078125 C 8.09375 -7.566406 7.988281 -7.101562 7.78125 -6.6875 C 7.582031 -6.269531 7.320312 -5.882812 7 -5.53125 C 6.6875 -5.175781 6.332031 -4.84375 5.9375 -4.53125 C 5.550781 -4.226562 5.175781 -3.929688 4.8125 -3.640625 C 4.445312 -3.347656 4.113281 -3.050781 3.8125 -2.75 C 3.519531 -2.457031 3.300781 -2.144531 3.15625 -1.8125 L 8.265625 -1.8125 L 8.265625 0 Z M 0.5625 0 \"/>\n",
       "</g>\n",
       "<g id=\"glyph-0-6\">\n",
       "<path d=\"M 8.203125 -9.265625 C 7.703125 -8.484375 7.234375 -7.722656 6.796875 -6.984375 C 6.359375 -6.253906 5.972656 -5.519531 5.640625 -4.78125 C 5.316406 -4.039062 5.054688 -3.273438 4.859375 -2.484375 C 4.671875 -1.703125 4.578125 -0.875 4.578125 0 L 2.296875 0 C 2.296875 -0.875 2.394531 -1.703125 2.59375 -2.484375 C 2.800781 -3.265625 3.082031 -4.023438 3.4375 -4.765625 C 3.789062 -5.515625 4.203125 -6.253906 4.671875 -6.984375 C 5.140625 -7.710938 5.632812 -8.453125 6.15625 -9.203125 L 0.6875 -9.203125 L 0.6875 -11.015625 L 8.203125 -11.015625 Z M 8.203125 -9.265625 \"/>\n",
       "</g>\n",
       "<g id=\"glyph-1-0\">\n",
       "<path d=\"M 7.203125 0 L 4.984375 -3.453125 L 2.75 0 L 0.125 0 L 3.609375 -4.90625 L 0.296875 -9.515625 L 2.953125 -9.515625 L 4.984375 -6.40625 L 7 -9.515625 L 9.6875 -9.515625 L 6.375 -4.9375 L 9.875 0 Z M 7.203125 0 \"/>\n",
       "</g>\n",
       "<g id=\"glyph-2-0\">\n",
       "<path d=\"M -2.125 -5.140625 L -9.515625 -7.328125 L -9.515625 -9.921875 L 0.5 -6.15625 C 1.65625 -5.675781 2.472656 -5.179688 2.953125 -4.671875 C 3.472656 -4.117188 3.734375 -3.390625 3.734375 -2.484375 C 3.734375 -1.890625 3.695312 -1.375 3.625 -0.9375 L 1.859375 -0.9375 C 1.910156 -1.238281 1.9375 -1.515625 1.9375 -1.765625 C 1.9375 -2.015625 1.910156 -2.234375 1.859375 -2.421875 C 1.804688 -2.609375 1.71875 -2.78125 1.59375 -2.9375 C 1.34375 -3.238281 0.921875 -3.507812 0.328125 -3.75 L -0.09375 -3.90625 L -9.515625 -0.140625 L -9.515625 -2.75 Z M -2.125 -5.140625 \"/>\n",
       "</g>\n",
       "</g>\n",
       "<clipPath id=\"clip-0\">\n",
       "<path clip-rule=\"nonzero\" d=\"M 60.082031 426 L 498.523438 426 L 498.523438 428 L 60.082031 428 Z M 60.082031 426 \"/>\n",
       "</clipPath>\n",
       "<clipPath id=\"clip-1\">\n",
       "<path clip-rule=\"nonzero\" d=\"M 60.082031 322 L 498.523438 322 L 498.523438 324 L 60.082031 324 Z M 60.082031 322 \"/>\n",
       "</clipPath>\n",
       "<clipPath id=\"clip-2\">\n",
       "<path clip-rule=\"nonzero\" d=\"M 60.082031 217 L 498.523438 217 L 498.523438 220 L 60.082031 220 Z M 60.082031 217 \"/>\n",
       "</clipPath>\n",
       "<clipPath id=\"clip-3\">\n",
       "<path clip-rule=\"nonzero\" d=\"M 60.082031 113 L 498.523438 113 L 498.523438 115 L 60.082031 115 Z M 60.082031 113 \"/>\n",
       "</clipPath>\n",
       "<clipPath id=\"clip-4\">\n",
       "<path clip-rule=\"nonzero\" d=\"M 60.082031 9 L 498.523438 9 L 498.523438 11 L 60.082031 11 Z M 60.082031 9 \"/>\n",
       "</clipPath>\n",
       "</defs>\n",
       "<rect x=\"-50.4\" y=\"-50.4\" width=\"604.8\" height=\"604.8\" fill=\"rgb(100%, 100%, 100%)\" fill-opacity=\"1\"/>\n",
       "<rect x=\"-50.4\" y=\"-50.4\" width=\"604.8\" height=\"604.8\" fill=\"rgb(100%, 100%, 100%)\" fill-opacity=\"1\"/>\n",
       "<g clip-path=\"url(#clip-0)\">\n",
       "<path fill=\"none\" stroke-width=\"1.066978\" stroke-linecap=\"butt\" stroke-linejoin=\"round\" stroke=\"rgb(74.509804%, 74.509804%, 74.509804%)\" stroke-opacity=\"1\" stroke-miterlimit=\"10\" d=\"M 60.082031 427.257812 L 498.519531 427.257812 \"/>\n",
       "</g>\n",
       "<g clip-path=\"url(#clip-1)\">\n",
       "<path fill=\"none\" stroke-width=\"1.066978\" stroke-linecap=\"butt\" stroke-linejoin=\"round\" stroke=\"rgb(74.509804%, 74.509804%, 74.509804%)\" stroke-opacity=\"1\" stroke-miterlimit=\"10\" d=\"M 60.082031 322.894531 L 498.519531 322.894531 \"/>\n",
       "</g>\n",
       "<g clip-path=\"url(#clip-2)\">\n",
       "<path fill=\"none\" stroke-width=\"1.066978\" stroke-linecap=\"butt\" stroke-linejoin=\"round\" stroke=\"rgb(74.509804%, 74.509804%, 74.509804%)\" stroke-opacity=\"1\" stroke-miterlimit=\"10\" d=\"M 60.082031 218.53125 L 498.519531 218.53125 \"/>\n",
       "</g>\n",
       "<g clip-path=\"url(#clip-3)\">\n",
       "<path fill=\"none\" stroke-width=\"1.066978\" stroke-linecap=\"butt\" stroke-linejoin=\"round\" stroke=\"rgb(74.509804%, 74.509804%, 74.509804%)\" stroke-opacity=\"1\" stroke-miterlimit=\"10\" d=\"M 60.082031 114.167969 L 498.519531 114.167969 \"/>\n",
       "</g>\n",
       "<g clip-path=\"url(#clip-4)\">\n",
       "<path fill=\"none\" stroke-width=\"1.066978\" stroke-linecap=\"butt\" stroke-linejoin=\"round\" stroke=\"rgb(74.509804%, 74.509804%, 74.509804%)\" stroke-opacity=\"1\" stroke-miterlimit=\"10\" d=\"M 60.082031 9.804688 L 498.519531 9.804688 \"/>\n",
       "</g>\n",
       "<path fill-rule=\"nonzero\" fill=\"rgb(0%, 0%, 0%)\" fill-opacity=\"1\" stroke-width=\"0.708661\" stroke-linecap=\"round\" stroke-linejoin=\"round\" stroke=\"rgb(0%, 0%, 0%)\" stroke-opacity=\"1\" stroke-miterlimit=\"10\" d=\"M 81.964844 430.097656 C 81.964844 432.703125 78.054688 432.703125 78.054688 430.097656 C 78.054688 427.492188 81.964844 427.492188 81.964844 430.097656 \"/>\n",
       "<path fill-rule=\"nonzero\" fill=\"rgb(0%, 0%, 0%)\" fill-opacity=\"1\" stroke-width=\"0.708661\" stroke-linecap=\"round\" stroke-linejoin=\"round\" stroke=\"rgb(0%, 0%, 0%)\" stroke-opacity=\"1\" stroke-miterlimit=\"10\" d=\"M 126.25 435.445312 C 126.25 438.050781 122.339844 438.050781 122.339844 435.445312 C 122.339844 432.839844 126.25 432.839844 126.25 435.445312 \"/>\n",
       "<path fill-rule=\"nonzero\" fill=\"rgb(0%, 0%, 0%)\" fill-opacity=\"1\" stroke-width=\"0.708661\" stroke-linecap=\"round\" stroke-linejoin=\"round\" stroke=\"rgb(0%, 0%, 0%)\" stroke-opacity=\"1\" stroke-miterlimit=\"10\" d=\"M 170.539062 195.972656 C 170.539062 198.578125 166.628906 198.578125 166.628906 195.972656 C 166.628906 193.363281 170.539062 193.363281 170.539062 195.972656 \"/>\n",
       "<path fill-rule=\"nonzero\" fill=\"rgb(0%, 0%, 0%)\" fill-opacity=\"1\" stroke-width=\"0.708661\" stroke-linecap=\"round\" stroke-linejoin=\"round\" stroke=\"rgb(0%, 0%, 0%)\" stroke-opacity=\"1\" stroke-miterlimit=\"10\" d=\"M 214.824219 25.953125 C 214.824219 28.558594 210.914062 28.558594 210.914062 25.953125 C 210.914062 23.347656 214.824219 23.347656 214.824219 25.953125 \"/>\n",
       "<path fill-rule=\"nonzero\" fill=\"rgb(0%, 0%, 0%)\" fill-opacity=\"1\" stroke-width=\"0.708661\" stroke-linecap=\"round\" stroke-linejoin=\"round\" stroke=\"rgb(0%, 0%, 0%)\" stroke-opacity=\"1\" stroke-miterlimit=\"10\" d=\"M 259.113281 364.707031 C 259.113281 367.316406 255.203125 367.316406 255.203125 364.707031 C 255.203125 362.101562 259.113281 362.101562 259.113281 364.707031 \"/>\n",
       "<path fill-rule=\"nonzero\" fill=\"rgb(0%, 0%, 0%)\" fill-opacity=\"1\" stroke-width=\"0.708661\" stroke-linecap=\"round\" stroke-linejoin=\"round\" stroke=\"rgb(0%, 0%, 0%)\" stroke-opacity=\"1\" stroke-miterlimit=\"10\" d=\"M 303.398438 118.6875 C 303.398438 121.292969 299.488281 121.292969 299.488281 118.6875 C 299.488281 116.082031 303.398438 116.082031 303.398438 118.6875 \"/>\n",
       "<path fill-rule=\"nonzero\" fill=\"rgb(0%, 0%, 0%)\" fill-opacity=\"1\" stroke-width=\"0.708661\" stroke-linecap=\"round\" stroke-linejoin=\"round\" stroke=\"rgb(0%, 0%, 0%)\" stroke-opacity=\"1\" stroke-miterlimit=\"10\" d=\"M 347.683594 224.804688 C 347.683594 227.410156 343.777344 227.410156 343.777344 224.804688 C 343.777344 222.195312 347.683594 222.195312 347.683594 224.804688 \"/>\n",
       "<path fill-rule=\"nonzero\" fill=\"rgb(0%, 0%, 0%)\" fill-opacity=\"1\" stroke-width=\"0.708661\" stroke-linecap=\"round\" stroke-linejoin=\"round\" stroke=\"rgb(0%, 0%, 0%)\" stroke-opacity=\"1\" stroke-miterlimit=\"10\" d=\"M 391.972656 265.464844 C 391.972656 268.070312 388.0625 268.070312 388.0625 265.464844 C 388.0625 262.859375 391.972656 262.859375 391.972656 265.464844 \"/>\n",
       "<path fill-rule=\"nonzero\" fill=\"rgb(0%, 0%, 0%)\" fill-opacity=\"1\" stroke-width=\"0.708661\" stroke-linecap=\"round\" stroke-linejoin=\"round\" stroke=\"rgb(0%, 0%, 0%)\" stroke-opacity=\"1\" stroke-miterlimit=\"10\" d=\"M 436.257812 382.601562 C 436.257812 385.207031 432.351562 385.207031 432.351562 382.601562 C 432.351562 379.992188 436.257812 379.992188 436.257812 382.601562 \"/>\n",
       "<path fill-rule=\"nonzero\" fill=\"rgb(0%, 0%, 0%)\" fill-opacity=\"1\" stroke-width=\"0.708661\" stroke-linecap=\"round\" stroke-linejoin=\"round\" stroke=\"rgb(0%, 0%, 0%)\" stroke-opacity=\"1\" stroke-miterlimit=\"10\" d=\"M 480.546875 226.308594 C 480.546875 228.914062 476.636719 228.914062 476.636719 226.308594 C 476.636719 223.703125 480.546875 223.703125 480.546875 226.308594 \"/>\n",
       "<path fill=\"none\" stroke-width=\"2.133957\" stroke-linecap=\"butt\" stroke-linejoin=\"round\" stroke=\"rgb(0%, 0%, 0%)\" stroke-opacity=\"1\" stroke-miterlimit=\"10\" d=\"M 60.082031 455.917969 L 60.082031 5.480469 \"/>\n",
       "<g fill=\"rgb(30.196078%, 30.196078%, 30.196078%)\" fill-opacity=\"1\">\n",
       "<use xlink:href=\"#glyph-0-0\" x=\"25.21875\" y=\"432.742188\"/>\n",
       "<use xlink:href=\"#glyph-0-1\" x=\"30.21875\" y=\"432.742188\"/>\n",
       "<use xlink:href=\"#glyph-0-2\" x=\"39.21875\" y=\"432.742188\"/>\n",
       "<use xlink:href=\"#glyph-0-3\" x=\"43.21875\" y=\"432.742188\"/>\n",
       "</g>\n",
       "<g fill=\"rgb(30.196078%, 30.196078%, 30.196078%)\" fill-opacity=\"1\">\n",
       "<use xlink:href=\"#glyph-0-1\" x=\"30.21875\" y=\"328.378906\"/>\n",
       "<use xlink:href=\"#glyph-0-2\" x=\"39.21875\" y=\"328.378906\"/>\n",
       "<use xlink:href=\"#glyph-0-1\" x=\"43.21875\" y=\"328.378906\"/>\n",
       "</g>\n",
       "<g fill=\"rgb(30.196078%, 30.196078%, 30.196078%)\" fill-opacity=\"1\">\n",
       "<use xlink:href=\"#glyph-0-1\" x=\"30.21875\" y=\"224.015625\"/>\n",
       "<use xlink:href=\"#glyph-0-2\" x=\"39.21875\" y=\"224.015625\"/>\n",
       "<use xlink:href=\"#glyph-0-3\" x=\"43.21875\" y=\"224.015625\"/>\n",
       "</g>\n",
       "<g fill=\"rgb(30.196078%, 30.196078%, 30.196078%)\" fill-opacity=\"1\">\n",
       "<use xlink:href=\"#glyph-0-4\" x=\"30.21875\" y=\"119.652344\"/>\n",
       "<use xlink:href=\"#glyph-0-2\" x=\"39.21875\" y=\"119.652344\"/>\n",
       "<use xlink:href=\"#glyph-0-1\" x=\"43.21875\" y=\"119.652344\"/>\n",
       "</g>\n",
       "<g fill=\"rgb(30.196078%, 30.196078%, 30.196078%)\" fill-opacity=\"1\">\n",
       "<use xlink:href=\"#glyph-0-4\" x=\"30.21875\" y=\"15.289062\"/>\n",
       "<use xlink:href=\"#glyph-0-2\" x=\"39.21875\" y=\"15.289062\"/>\n",
       "<use xlink:href=\"#glyph-0-3\" x=\"43.21875\" y=\"15.289062\"/>\n",
       "</g>\n",
       "<path fill=\"none\" stroke-width=\"2.133957\" stroke-linecap=\"butt\" stroke-linejoin=\"round\" stroke=\"rgb(0%, 0%, 0%)\" stroke-opacity=\"1\" stroke-miterlimit=\"10\" d=\"M 60.082031 455.917969 L 498.519531 455.917969 \"/>\n",
       "<path fill=\"none\" stroke-width=\"1.066978\" stroke-linecap=\"butt\" stroke-linejoin=\"round\" stroke=\"rgb(20%, 20%, 20%)\" stroke-opacity=\"1\" stroke-miterlimit=\"10\" d=\"M 146.441406 461.589844 L 146.441406 455.917969 \"/>\n",
       "<path fill=\"none\" stroke-width=\"1.066978\" stroke-linecap=\"butt\" stroke-linejoin=\"round\" stroke=\"rgb(20%, 20%, 20%)\" stroke-opacity=\"1\" stroke-miterlimit=\"10\" d=\"M 257.15625 461.589844 L 257.15625 455.917969 \"/>\n",
       "<path fill=\"none\" stroke-width=\"1.066978\" stroke-linecap=\"butt\" stroke-linejoin=\"round\" stroke=\"rgb(20%, 20%, 20%)\" stroke-opacity=\"1\" stroke-miterlimit=\"10\" d=\"M 367.875 461.589844 L 367.875 455.917969 \"/>\n",
       "<path fill=\"none\" stroke-width=\"1.066978\" stroke-linecap=\"butt\" stroke-linejoin=\"round\" stroke=\"rgb(20%, 20%, 20%)\" stroke-opacity=\"1\" stroke-miterlimit=\"10\" d=\"M 478.589844 461.589844 L 478.589844 455.917969 \"/>\n",
       "<g fill=\"rgb(30.196078%, 30.196078%, 30.196078%)\" fill-opacity=\"1\">\n",
       "<use xlink:href=\"#glyph-0-5\" x=\"135.441406\" y=\"475.265625\"/>\n",
       "<use xlink:href=\"#glyph-0-2\" x=\"144.441406\" y=\"475.265625\"/>\n",
       "<use xlink:href=\"#glyph-0-3\" x=\"148.441406\" y=\"475.265625\"/>\n",
       "</g>\n",
       "<g fill=\"rgb(30.196078%, 30.196078%, 30.196078%)\" fill-opacity=\"1\">\n",
       "<use xlink:href=\"#glyph-0-3\" x=\"246.15625\" y=\"475.265625\"/>\n",
       "<use xlink:href=\"#glyph-0-2\" x=\"255.15625\" y=\"475.265625\"/>\n",
       "<use xlink:href=\"#glyph-0-1\" x=\"259.15625\" y=\"475.265625\"/>\n",
       "</g>\n",
       "<g fill=\"rgb(30.196078%, 30.196078%, 30.196078%)\" fill-opacity=\"1\">\n",
       "<use xlink:href=\"#glyph-0-6\" x=\"356.875\" y=\"475.265625\"/>\n",
       "<use xlink:href=\"#glyph-0-2\" x=\"365.875\" y=\"475.265625\"/>\n",
       "<use xlink:href=\"#glyph-0-3\" x=\"369.875\" y=\"475.265625\"/>\n",
       "</g>\n",
       "<g fill=\"rgb(30.196078%, 30.196078%, 30.196078%)\" fill-opacity=\"1\">\n",
       "<use xlink:href=\"#glyph-0-4\" x=\"463.089844\" y=\"475.265625\"/>\n",
       "<use xlink:href=\"#glyph-0-1\" x=\"472.089844\" y=\"475.265625\"/>\n",
       "<use xlink:href=\"#glyph-0-2\" x=\"481.089844\" y=\"475.265625\"/>\n",
       "<use xlink:href=\"#glyph-0-1\" x=\"485.089844\" y=\"475.265625\"/>\n",
       "</g>\n",
       "<g fill=\"rgb(0%, 0%, 0%)\" fill-opacity=\"1\">\n",
       "<use xlink:href=\"#glyph-1-0\" x=\"274.300781\" y=\"493.814453\"/>\n",
       "</g>\n",
       "<g fill=\"rgb(0%, 0%, 0%)\" fill-opacity=\"1\">\n",
       "<use xlink:href=\"#glyph-2-0\" x=\"17.775391\" y=\"235.699219\"/>\n",
       "</g>\n",
       "</svg>\n"
      ],
      "text/plain": [
       "plot without title"
      ]
     },
     "metadata": {
      "application/pdf": {
       "height": 420,
       "width": 420
      },
      "image/jpeg": {
       "height": 420,
       "width": 420
      },
      "image/png": {
       "height": 420,
       "width": 420
      },
      "image/svg+xml": {
       "height": 420,
       "isolated": true,
       "width": 420
      }
     },
     "output_type": "display_data"
    }
   ],
   "source": [
    "devtools::test()\n",
    "devtools::run_examples()"
   ]
  },
  {
   "cell_type": "code",
   "execution_count": 5,
   "id": "0398c4a6-7d25-49e1-ad10-5c05e12cc593",
   "metadata": {},
   "outputs": [
    {
     "name": "stderr",
     "output_type": "stream",
     "text": [
      "\u001b[1m\u001b[22mBuilding windows version of \u001b[34mSLEMI\u001b[39m (1.0.2)\n",
      "\u001b[36mℹ\u001b[39m Using R-release with win-builder.r-project.org.\n"
     ]
    },
    {
     "name": "stdout",
     "output_type": "stream",
     "text": [
      "\u001b[36m──\u001b[39m \u001b[36mR CMD build\u001b[39m \u001b[36m─────────────────────────────────────────────────────────────────\u001b[39m\n",
      "* checking for file ‘/opt/work/2023_resolve_docs/DESCRIPTION’ ... OK\n",
      "* preparing ‘SLEMI’:\n",
      "* checking DESCRIPTION meta-information ... OK\n",
      "* installing the package to build vignettes\n",
      "* creating vignettes ... OK\n",
      "* checking for LF line-endings in source and make files and shell scripts\n",
      "* checking for empty or unneeded directories\n",
      "* building ‘SLEMI_1.0.2.tar.gz’\n",
      "Warning: invalid uid value replaced by that for user 'nobody'\n",
      "Warning: invalid gid value replaced by that for user 'nobody'\n",
      "\n",
      "\u001b[36m────────────────────────────────────────────────────────────────────────────────\u001b[39m\n"
     ]
    },
    {
     "name": "stderr",
     "output_type": "stream",
     "text": [
      "\u001b[1m\u001b[22m\u001b[36mℹ\u001b[39m Check <\u001b[34mt.jetka@gmail.com\u001b[39m> for the results in 15-30 mins (~06:53 PM).\n"
     ]
    }
   ],
   "source": [
    "devtools::check_win_release()"
   ]
  },
  {
   "cell_type": "code",
   "execution_count": 6,
   "id": "849ed0cf-bbb8-4abe-a479-f2aaecdfc886",
   "metadata": {},
   "outputs": [
    {
     "name": "stderr",
     "output_type": "stream",
     "text": [
      "\u001b[1m\u001b[22mBuilding macOS version of \u001b[34mSLEMI\u001b[39m (1.0.2)\n",
      "\u001b[36mℹ\u001b[39m Using https://mac.r-project.org/macbuilder/submit.html.\n"
     ]
    },
    {
     "name": "stdout",
     "output_type": "stream",
     "text": [
      "\u001b[36m──\u001b[39m \u001b[36mR CMD build\u001b[39m \u001b[36m─────────────────────────────────────────────────────────────────\u001b[39m\n",
      "* checking for file ‘/opt/work/2023_resolve_docs/DESCRIPTION’ ... OK\n",
      "* preparing ‘SLEMI’:\n",
      "* checking DESCRIPTION meta-information ... OK\n",
      "* installing the package to build vignettes\n",
      "* creating vignettes ... OK\n",
      "* checking for LF line-endings in source and make files and shell scripts\n",
      "* checking for empty or unneeded directories\n",
      "* building ‘SLEMI_1.0.2.tar.gz’\n",
      "Warning: invalid uid value replaced by that for user 'nobody'\n",
      "Warning: invalid gid value replaced by that for user 'nobody'\n",
      "\n",
      "\u001b[36m────────────────────────────────────────────────────────────────────────────────\u001b[39m\n"
     ]
    },
    {
     "name": "stderr",
     "output_type": "stream",
     "text": [
      "\u001b[1m\u001b[22m\u001b[36mℹ\u001b[39m Check\n",
      "  \u001b[3m\u001b[34m<https://mac.R-project.org/macbuilder/results/1700418285-f9235260af0f51e3/>\u001b[39m\u001b[23m\n",
      "  the results in 5-10 mins (~06:34 PM).\n"
     ]
    }
   ],
   "source": [
    "devtools::check_mac_release()"
   ]
  },
  {
   "cell_type": "code",
   "execution_count": 18,
   "id": "4f80a65d-6c7b-410d-a156-2eacded8004b",
   "metadata": {},
   "outputs": [
    {
     "ename": "ERROR",
     "evalue": "Error in rhub::validate_email(\"t.jetka@gmail.com\"): No email or no token and not in interactive mode\n",
     "output_type": "error",
     "traceback": [
      "Error in rhub::validate_email(\"t.jetka@gmail.com\"): No email or no token and not in interactive mode\nTraceback:\n",
      "1. rhub::validate_email(\"t.jetka@gmail.com\")",
      "2. stop(\"No email or no token and not in interactive mode\")"
     ]
    }
   ],
   "source": [
    "library(rhub)\n",
    "rhub::validate_email(\"t.jetka@gmail.com\")\n",
    "devtools::check_rhub()"
   ]
  },
  {
   "cell_type": "code",
   "execution_count": null,
   "id": "b6a05104-1585-48f8-8274-bba6c1eacc55",
   "metadata": {},
   "outputs": [],
   "source": [
    "pkgbuild::build(manual = TRUE)"
   ]
  },
  {
   "cell_type": "markdown",
   "id": "45447303-cf37-42a6-b0f6-6f52d1f45075",
   "metadata": {},
   "source": [
    "## 2023 update"
   ]
  },
  {
   "cell_type": "code",
   "execution_count": 4,
   "id": "e92f783e-de8f-4e21-9d72-c7723841a082",
   "metadata": {},
   "outputs": [
    {
     "name": "stderr",
     "output_type": "stream",
     "text": [
      "\u001b[32m✔\u001b[39m Setting active project to \u001b[34m'/opt/work/2023-resolve-cran-issues'\u001b[39m\n",
      "\u001b[32m✔\u001b[39m Writing \u001b[34m'R/SLEMI-package.R'\u001b[39m\n"
     ]
    }
   ],
   "source": [
    "## add package-level help page\n",
    "usethis::use_package_doc()"
   ]
  },
  {
   "cell_type": "code",
   "execution_count": 10,
   "id": "854e7160-f46d-4e26-a6ea-14dd8b6030c1",
   "metadata": {},
   "outputs": [
    {
     "data": {
      "text/plain": [
       "NULL"
      ]
     },
     "metadata": {},
     "output_type": "display_data"
    }
   ],
   "source": [
    "load(\"../data/ggthemes_data.rda\")\n",
    "ggthemes_data$hc$bg\n",
    "# Action: to be removed"
   ]
  }
 ],
 "metadata": {
  "kernelspec": {
   "display_name": "R",
   "language": "R",
   "name": "ir"
  },
  "language_info": {
   "codemirror_mode": "r",
   "file_extension": ".r",
   "mimetype": "text/x-r-source",
   "name": "R",
   "pygments_lexer": "r",
   "version": "4.3.1"
  }
 },
 "nbformat": 4,
 "nbformat_minor": 5
}
